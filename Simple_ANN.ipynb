{
  "nbformat": 4,
  "nbformat_minor": 0,
  "metadata": {
    "kernelspec": {
      "display_name": "Python 3",
      "language": "python",
      "name": "python3"
    },
    "language_info": {
      "codemirror_mode": {
        "name": "ipython",
        "version": 3
      },
      "file_extension": ".py",
      "mimetype": "text/x-python",
      "name": "python",
      "nbconvert_exporter": "python",
      "pygments_lexer": "ipython3",
      "version": "3.6.6"
    },
    "colab": {
      "name": "Simple ANN.ipynb",
      "provenance": []
    }
  },
  "cells": [
    {
      "cell_type": "markdown",
      "metadata": {
        "id": "ioQljvaU2uJn"
      },
      "source": [
        ""
      ]
    },
    {
      "cell_type": "markdown",
      "metadata": {
        "id": "wV7AJNOm2uJt"
      },
      "source": [
        "# Step 1. \n",
        " - Have a quick look on the dataset, which is very much needed to build the thought process around the data\n",
        " - Reread problem statement multiple times and try to understand how to correlate the dataset and problem. \n",
        " - Plot the visualization \n",
        " \n",
        " Our problem statment: Look for the correlation of sensors which leads to device breakdown\n"
      ]
    },
    {
      "cell_type": "markdown",
      "metadata": {
        "id": "T-d-W7bn2uJu"
      },
      "source": [
        "\n",
        "1. Quick Checklist for this dataset\n",
        "*     timeseries forecasting problem \n",
        "*     machine status - 3 convert that into label encoding \n",
        "*     all numerical values\n",
        "*     anomlay detection \n",
        "*     labelled data - supervised learning , classification \n",
        "*     look for correlation matrix \n",
        "*     look for skewness in the data \n",
        "*     check imbalance angle if any "
      ]
    },
    {
      "cell_type": "code",
      "metadata": {
        "id": "B56mJ1Tn2uJw",
        "outputId": "2b9bcf96-6b63-4502-995e-5fe1b1ecad49"
      },
      "source": [
        "# load the dataset \n",
        "import pandas as pd\n",
        "import numpy as np\n",
        "\n",
        "df = pd.read_csv('../input/sensor.csv')\n",
        "df.head(2)"
      ],
      "execution_count": null,
      "outputs": [
        {
          "output_type": "execute_result",
          "data": {
            "text/html": [
              "<div>\n",
              "<style scoped>\n",
              "    .dataframe tbody tr th:only-of-type {\n",
              "        vertical-align: middle;\n",
              "    }\n",
              "\n",
              "    .dataframe tbody tr th {\n",
              "        vertical-align: top;\n",
              "    }\n",
              "\n",
              "    .dataframe thead th {\n",
              "        text-align: right;\n",
              "    }\n",
              "</style>\n",
              "<table border=\"1\" class=\"dataframe\">\n",
              "  <thead>\n",
              "    <tr style=\"text-align: right;\">\n",
              "      <th></th>\n",
              "      <th>Unnamed: 0</th>\n",
              "      <th>timestamp</th>\n",
              "      <th>sensor_00</th>\n",
              "      <th>sensor_01</th>\n",
              "      <th>sensor_02</th>\n",
              "      <th>sensor_03</th>\n",
              "      <th>sensor_04</th>\n",
              "      <th>sensor_05</th>\n",
              "      <th>sensor_06</th>\n",
              "      <th>sensor_07</th>\n",
              "      <th>...</th>\n",
              "      <th>sensor_43</th>\n",
              "      <th>sensor_44</th>\n",
              "      <th>sensor_45</th>\n",
              "      <th>sensor_46</th>\n",
              "      <th>sensor_47</th>\n",
              "      <th>sensor_48</th>\n",
              "      <th>sensor_49</th>\n",
              "      <th>sensor_50</th>\n",
              "      <th>sensor_51</th>\n",
              "      <th>machine_status</th>\n",
              "    </tr>\n",
              "  </thead>\n",
              "  <tbody>\n",
              "    <tr>\n",
              "      <th>0</th>\n",
              "      <td>0</td>\n",
              "      <td>2018-04-01 00:00:00</td>\n",
              "      <td>2.465394</td>\n",
              "      <td>47.09201</td>\n",
              "      <td>53.2118</td>\n",
              "      <td>46.31076</td>\n",
              "      <td>634.375</td>\n",
              "      <td>76.45975</td>\n",
              "      <td>13.41146</td>\n",
              "      <td>16.13136</td>\n",
              "      <td>...</td>\n",
              "      <td>41.92708</td>\n",
              "      <td>39.6412</td>\n",
              "      <td>65.68287</td>\n",
              "      <td>50.92593</td>\n",
              "      <td>38.19444</td>\n",
              "      <td>157.9861</td>\n",
              "      <td>67.70834</td>\n",
              "      <td>243.0556</td>\n",
              "      <td>201.3889</td>\n",
              "      <td>NORMAL</td>\n",
              "    </tr>\n",
              "    <tr>\n",
              "      <th>1</th>\n",
              "      <td>1</td>\n",
              "      <td>2018-04-01 00:01:00</td>\n",
              "      <td>2.465394</td>\n",
              "      <td>47.09201</td>\n",
              "      <td>53.2118</td>\n",
              "      <td>46.31076</td>\n",
              "      <td>634.375</td>\n",
              "      <td>76.45975</td>\n",
              "      <td>13.41146</td>\n",
              "      <td>16.13136</td>\n",
              "      <td>...</td>\n",
              "      <td>41.92708</td>\n",
              "      <td>39.6412</td>\n",
              "      <td>65.68287</td>\n",
              "      <td>50.92593</td>\n",
              "      <td>38.19444</td>\n",
              "      <td>157.9861</td>\n",
              "      <td>67.70834</td>\n",
              "      <td>243.0556</td>\n",
              "      <td>201.3889</td>\n",
              "      <td>NORMAL</td>\n",
              "    </tr>\n",
              "  </tbody>\n",
              "</table>\n",
              "<p>2 rows × 55 columns</p>\n",
              "</div>"
            ],
            "text/plain": [
              "   Unnamed: 0            timestamp  sensor_00  sensor_01  sensor_02  \\\n",
              "0           0  2018-04-01 00:00:00   2.465394   47.09201    53.2118   \n",
              "1           1  2018-04-01 00:01:00   2.465394   47.09201    53.2118   \n",
              "\n",
              "   sensor_03  sensor_04  sensor_05  sensor_06  sensor_07       ...        \\\n",
              "0   46.31076    634.375   76.45975   13.41146   16.13136       ...         \n",
              "1   46.31076    634.375   76.45975   13.41146   16.13136       ...         \n",
              "\n",
              "   sensor_43  sensor_44  sensor_45  sensor_46  sensor_47  sensor_48  \\\n",
              "0   41.92708    39.6412   65.68287   50.92593   38.19444   157.9861   \n",
              "1   41.92708    39.6412   65.68287   50.92593   38.19444   157.9861   \n",
              "\n",
              "   sensor_49  sensor_50  sensor_51  machine_status  \n",
              "0   67.70834   243.0556   201.3889          NORMAL  \n",
              "1   67.70834   243.0556   201.3889          NORMAL  \n",
              "\n",
              "[2 rows x 55 columns]"
            ]
          },
          "metadata": {
            "tags": []
          },
          "execution_count": 1
        }
      ]
    },
    {
      "cell_type": "code",
      "metadata": {
        "id": "3WAEJEzq2uJz",
        "outputId": "4f3b4739-8dbf-4c79-e22c-d704ae5645b3"
      },
      "source": [
        "df.tail()\n",
        "\n",
        "# 01-Apr-2018 to 31-Aug-2018 \n",
        "# apr, may, jun, jul, aug - 5 months every min data is collected "
      ],
      "execution_count": null,
      "outputs": [
        {
          "output_type": "execute_result",
          "data": {
            "text/html": [
              "<div>\n",
              "<style scoped>\n",
              "    .dataframe tbody tr th:only-of-type {\n",
              "        vertical-align: middle;\n",
              "    }\n",
              "\n",
              "    .dataframe tbody tr th {\n",
              "        vertical-align: top;\n",
              "    }\n",
              "\n",
              "    .dataframe thead th {\n",
              "        text-align: right;\n",
              "    }\n",
              "</style>\n",
              "<table border=\"1\" class=\"dataframe\">\n",
              "  <thead>\n",
              "    <tr style=\"text-align: right;\">\n",
              "      <th></th>\n",
              "      <th>Unnamed: 0</th>\n",
              "      <th>timestamp</th>\n",
              "      <th>sensor_00</th>\n",
              "      <th>sensor_01</th>\n",
              "      <th>sensor_02</th>\n",
              "      <th>sensor_03</th>\n",
              "      <th>sensor_04</th>\n",
              "      <th>sensor_05</th>\n",
              "      <th>sensor_06</th>\n",
              "      <th>sensor_07</th>\n",
              "      <th>...</th>\n",
              "      <th>sensor_43</th>\n",
              "      <th>sensor_44</th>\n",
              "      <th>sensor_45</th>\n",
              "      <th>sensor_46</th>\n",
              "      <th>sensor_47</th>\n",
              "      <th>sensor_48</th>\n",
              "      <th>sensor_49</th>\n",
              "      <th>sensor_50</th>\n",
              "      <th>sensor_51</th>\n",
              "      <th>machine_status</th>\n",
              "    </tr>\n",
              "  </thead>\n",
              "  <tbody>\n",
              "    <tr>\n",
              "      <th>220315</th>\n",
              "      <td>220315</td>\n",
              "      <td>2018-08-31 23:55:00</td>\n",
              "      <td>2.407350</td>\n",
              "      <td>47.69965</td>\n",
              "      <td>50.520830</td>\n",
              "      <td>43.142361</td>\n",
              "      <td>634.722229</td>\n",
              "      <td>64.59095</td>\n",
              "      <td>15.11863</td>\n",
              "      <td>16.65220</td>\n",
              "      <td>...</td>\n",
              "      <td>38.28125</td>\n",
              "      <td>68.28703</td>\n",
              "      <td>52.37268</td>\n",
              "      <td>48.32176</td>\n",
              "      <td>41.087960</td>\n",
              "      <td>212.3843</td>\n",
              "      <td>153.6458</td>\n",
              "      <td>NaN</td>\n",
              "      <td>231.1921</td>\n",
              "      <td>NORMAL</td>\n",
              "    </tr>\n",
              "    <tr>\n",
              "      <th>220316</th>\n",
              "      <td>220316</td>\n",
              "      <td>2018-08-31 23:56:00</td>\n",
              "      <td>2.400463</td>\n",
              "      <td>47.69965</td>\n",
              "      <td>50.564240</td>\n",
              "      <td>43.142361</td>\n",
              "      <td>630.902771</td>\n",
              "      <td>65.83363</td>\n",
              "      <td>15.15480</td>\n",
              "      <td>16.70284</td>\n",
              "      <td>...</td>\n",
              "      <td>38.28125</td>\n",
              "      <td>66.84028</td>\n",
              "      <td>50.63657</td>\n",
              "      <td>48.03241</td>\n",
              "      <td>40.798610</td>\n",
              "      <td>213.8310</td>\n",
              "      <td>156.2500</td>\n",
              "      <td>NaN</td>\n",
              "      <td>231.1921</td>\n",
              "      <td>NORMAL</td>\n",
              "    </tr>\n",
              "    <tr>\n",
              "      <th>220317</th>\n",
              "      <td>220317</td>\n",
              "      <td>2018-08-31 23:57:00</td>\n",
              "      <td>2.396528</td>\n",
              "      <td>47.69965</td>\n",
              "      <td>50.520830</td>\n",
              "      <td>43.142361</td>\n",
              "      <td>625.925903</td>\n",
              "      <td>67.29445</td>\n",
              "      <td>15.08970</td>\n",
              "      <td>16.70284</td>\n",
              "      <td>...</td>\n",
              "      <td>39.06250</td>\n",
              "      <td>65.39352</td>\n",
              "      <td>48.90046</td>\n",
              "      <td>48.03241</td>\n",
              "      <td>40.798610</td>\n",
              "      <td>217.3032</td>\n",
              "      <td>155.3819</td>\n",
              "      <td>NaN</td>\n",
              "      <td>232.0602</td>\n",
              "      <td>NORMAL</td>\n",
              "    </tr>\n",
              "    <tr>\n",
              "      <th>220318</th>\n",
              "      <td>220318</td>\n",
              "      <td>2018-08-31 23:58:00</td>\n",
              "      <td>2.406366</td>\n",
              "      <td>47.69965</td>\n",
              "      <td>50.520832</td>\n",
              "      <td>43.142361</td>\n",
              "      <td>635.648100</td>\n",
              "      <td>65.09175</td>\n",
              "      <td>15.11863</td>\n",
              "      <td>16.56539</td>\n",
              "      <td>...</td>\n",
              "      <td>40.62500</td>\n",
              "      <td>64.23611</td>\n",
              "      <td>47.74306</td>\n",
              "      <td>48.32176</td>\n",
              "      <td>40.509258</td>\n",
              "      <td>222.5116</td>\n",
              "      <td>153.9352</td>\n",
              "      <td>NaN</td>\n",
              "      <td>234.0856</td>\n",
              "      <td>NORMAL</td>\n",
              "    </tr>\n",
              "    <tr>\n",
              "      <th>220319</th>\n",
              "      <td>220319</td>\n",
              "      <td>2018-08-31 23:59:00</td>\n",
              "      <td>2.396528</td>\n",
              "      <td>47.69965</td>\n",
              "      <td>50.520832</td>\n",
              "      <td>43.142361</td>\n",
              "      <td>639.814800</td>\n",
              "      <td>65.45634</td>\n",
              "      <td>15.11863</td>\n",
              "      <td>16.65220</td>\n",
              "      <td>...</td>\n",
              "      <td>41.40625</td>\n",
              "      <td>62.78935</td>\n",
              "      <td>46.29630</td>\n",
              "      <td>48.90046</td>\n",
              "      <td>40.219910</td>\n",
              "      <td>227.4306</td>\n",
              "      <td>150.4630</td>\n",
              "      <td>NaN</td>\n",
              "      <td>234.0856</td>\n",
              "      <td>NORMAL</td>\n",
              "    </tr>\n",
              "  </tbody>\n",
              "</table>\n",
              "<p>5 rows × 55 columns</p>\n",
              "</div>"
            ],
            "text/plain": [
              "        Unnamed: 0            timestamp  sensor_00  sensor_01  sensor_02  \\\n",
              "220315      220315  2018-08-31 23:55:00   2.407350   47.69965  50.520830   \n",
              "220316      220316  2018-08-31 23:56:00   2.400463   47.69965  50.564240   \n",
              "220317      220317  2018-08-31 23:57:00   2.396528   47.69965  50.520830   \n",
              "220318      220318  2018-08-31 23:58:00   2.406366   47.69965  50.520832   \n",
              "220319      220319  2018-08-31 23:59:00   2.396528   47.69965  50.520832   \n",
              "\n",
              "        sensor_03   sensor_04  sensor_05  sensor_06  sensor_07  \\\n",
              "220315  43.142361  634.722229   64.59095   15.11863   16.65220   \n",
              "220316  43.142361  630.902771   65.83363   15.15480   16.70284   \n",
              "220317  43.142361  625.925903   67.29445   15.08970   16.70284   \n",
              "220318  43.142361  635.648100   65.09175   15.11863   16.56539   \n",
              "220319  43.142361  639.814800   65.45634   15.11863   16.65220   \n",
              "\n",
              "             ...        sensor_43  sensor_44  sensor_45  sensor_46  sensor_47  \\\n",
              "220315       ...         38.28125   68.28703   52.37268   48.32176  41.087960   \n",
              "220316       ...         38.28125   66.84028   50.63657   48.03241  40.798610   \n",
              "220317       ...         39.06250   65.39352   48.90046   48.03241  40.798610   \n",
              "220318       ...         40.62500   64.23611   47.74306   48.32176  40.509258   \n",
              "220319       ...         41.40625   62.78935   46.29630   48.90046  40.219910   \n",
              "\n",
              "        sensor_48  sensor_49  sensor_50  sensor_51  machine_status  \n",
              "220315   212.3843   153.6458        NaN   231.1921          NORMAL  \n",
              "220316   213.8310   156.2500        NaN   231.1921          NORMAL  \n",
              "220317   217.3032   155.3819        NaN   232.0602          NORMAL  \n",
              "220318   222.5116   153.9352        NaN   234.0856          NORMAL  \n",
              "220319   227.4306   150.4630        NaN   234.0856          NORMAL  \n",
              "\n",
              "[5 rows x 55 columns]"
            ]
          },
          "metadata": {
            "tags": []
          },
          "execution_count": 2
        }
      ]
    },
    {
      "cell_type": "code",
      "metadata": {
        "_cell_guid": "b1076dfc-b9ad-4769-8c92-a6c4dae69d19",
        "_uuid": "8f2839f25d086af736a60e9eeb907d3b93b6e0e5",
        "id": "pNmL5bRb2uJ0"
      },
      "source": [
        "del df['Unnamed: 0']"
      ],
      "execution_count": null,
      "outputs": []
    },
    {
      "cell_type": "code",
      "metadata": {
        "id": "W4pxorAi2uJ0"
      },
      "source": [
        "# convert time into index \n",
        "df['index'] = pd.to_datetime(df['timestamp'])\n",
        "df.index = df['index']"
      ],
      "execution_count": null,
      "outputs": []
    },
    {
      "cell_type": "code",
      "metadata": {
        "id": "LRc7Mbuv2uJ1"
      },
      "source": [
        "# delete the colunmns \n",
        "del df['index']\n",
        "del df['timestamp']"
      ],
      "execution_count": null,
      "outputs": []
    },
    {
      "cell_type": "code",
      "metadata": {
        "id": "s7r81WRM2uJ2",
        "outputId": "7aee22e7-5c8e-415e-d2a8-e93a7c242fab"
      },
      "source": [
        "df.head(2)"
      ],
      "execution_count": null,
      "outputs": [
        {
          "output_type": "execute_result",
          "data": {
            "text/html": [
              "<div>\n",
              "<style scoped>\n",
              "    .dataframe tbody tr th:only-of-type {\n",
              "        vertical-align: middle;\n",
              "    }\n",
              "\n",
              "    .dataframe tbody tr th {\n",
              "        vertical-align: top;\n",
              "    }\n",
              "\n",
              "    .dataframe thead th {\n",
              "        text-align: right;\n",
              "    }\n",
              "</style>\n",
              "<table border=\"1\" class=\"dataframe\">\n",
              "  <thead>\n",
              "    <tr style=\"text-align: right;\">\n",
              "      <th></th>\n",
              "      <th>sensor_00</th>\n",
              "      <th>sensor_01</th>\n",
              "      <th>sensor_02</th>\n",
              "      <th>sensor_03</th>\n",
              "      <th>sensor_04</th>\n",
              "      <th>sensor_05</th>\n",
              "      <th>sensor_06</th>\n",
              "      <th>sensor_07</th>\n",
              "      <th>sensor_08</th>\n",
              "      <th>sensor_09</th>\n",
              "      <th>...</th>\n",
              "      <th>sensor_43</th>\n",
              "      <th>sensor_44</th>\n",
              "      <th>sensor_45</th>\n",
              "      <th>sensor_46</th>\n",
              "      <th>sensor_47</th>\n",
              "      <th>sensor_48</th>\n",
              "      <th>sensor_49</th>\n",
              "      <th>sensor_50</th>\n",
              "      <th>sensor_51</th>\n",
              "      <th>machine_status</th>\n",
              "    </tr>\n",
              "    <tr>\n",
              "      <th>index</th>\n",
              "      <th></th>\n",
              "      <th></th>\n",
              "      <th></th>\n",
              "      <th></th>\n",
              "      <th></th>\n",
              "      <th></th>\n",
              "      <th></th>\n",
              "      <th></th>\n",
              "      <th></th>\n",
              "      <th></th>\n",
              "      <th></th>\n",
              "      <th></th>\n",
              "      <th></th>\n",
              "      <th></th>\n",
              "      <th></th>\n",
              "      <th></th>\n",
              "      <th></th>\n",
              "      <th></th>\n",
              "      <th></th>\n",
              "      <th></th>\n",
              "      <th></th>\n",
              "    </tr>\n",
              "  </thead>\n",
              "  <tbody>\n",
              "    <tr>\n",
              "      <th>2018-04-01 00:00:00</th>\n",
              "      <td>2.465394</td>\n",
              "      <td>47.09201</td>\n",
              "      <td>53.2118</td>\n",
              "      <td>46.31076</td>\n",
              "      <td>634.375</td>\n",
              "      <td>76.45975</td>\n",
              "      <td>13.41146</td>\n",
              "      <td>16.13136</td>\n",
              "      <td>15.56713</td>\n",
              "      <td>15.05353</td>\n",
              "      <td>...</td>\n",
              "      <td>41.92708</td>\n",
              "      <td>39.6412</td>\n",
              "      <td>65.68287</td>\n",
              "      <td>50.92593</td>\n",
              "      <td>38.19444</td>\n",
              "      <td>157.9861</td>\n",
              "      <td>67.70834</td>\n",
              "      <td>243.0556</td>\n",
              "      <td>201.3889</td>\n",
              "      <td>NORMAL</td>\n",
              "    </tr>\n",
              "    <tr>\n",
              "      <th>2018-04-01 00:01:00</th>\n",
              "      <td>2.465394</td>\n",
              "      <td>47.09201</td>\n",
              "      <td>53.2118</td>\n",
              "      <td>46.31076</td>\n",
              "      <td>634.375</td>\n",
              "      <td>76.45975</td>\n",
              "      <td>13.41146</td>\n",
              "      <td>16.13136</td>\n",
              "      <td>15.56713</td>\n",
              "      <td>15.05353</td>\n",
              "      <td>...</td>\n",
              "      <td>41.92708</td>\n",
              "      <td>39.6412</td>\n",
              "      <td>65.68287</td>\n",
              "      <td>50.92593</td>\n",
              "      <td>38.19444</td>\n",
              "      <td>157.9861</td>\n",
              "      <td>67.70834</td>\n",
              "      <td>243.0556</td>\n",
              "      <td>201.3889</td>\n",
              "      <td>NORMAL</td>\n",
              "    </tr>\n",
              "  </tbody>\n",
              "</table>\n",
              "<p>2 rows × 53 columns</p>\n",
              "</div>"
            ],
            "text/plain": [
              "                     sensor_00  sensor_01  sensor_02  sensor_03  sensor_04  \\\n",
              "index                                                                        \n",
              "2018-04-01 00:00:00   2.465394   47.09201    53.2118   46.31076    634.375   \n",
              "2018-04-01 00:01:00   2.465394   47.09201    53.2118   46.31076    634.375   \n",
              "\n",
              "                     sensor_05  sensor_06  sensor_07  sensor_08  sensor_09  \\\n",
              "index                                                                        \n",
              "2018-04-01 00:00:00   76.45975   13.41146   16.13136   15.56713   15.05353   \n",
              "2018-04-01 00:01:00   76.45975   13.41146   16.13136   15.56713   15.05353   \n",
              "\n",
              "                          ...        sensor_43  sensor_44  sensor_45  \\\n",
              "index                     ...                                          \n",
              "2018-04-01 00:00:00       ...         41.92708    39.6412   65.68287   \n",
              "2018-04-01 00:01:00       ...         41.92708    39.6412   65.68287   \n",
              "\n",
              "                     sensor_46  sensor_47  sensor_48  sensor_49  sensor_50  \\\n",
              "index                                                                        \n",
              "2018-04-01 00:00:00   50.92593   38.19444   157.9861   67.70834   243.0556   \n",
              "2018-04-01 00:01:00   50.92593   38.19444   157.9861   67.70834   243.0556   \n",
              "\n",
              "                     sensor_51  machine_status  \n",
              "index                                           \n",
              "2018-04-01 00:00:00   201.3889          NORMAL  \n",
              "2018-04-01 00:01:00   201.3889          NORMAL  \n",
              "\n",
              "[2 rows x 53 columns]"
            ]
          },
          "metadata": {
            "tags": []
          },
          "execution_count": 6
        }
      ]
    },
    {
      "cell_type": "code",
      "metadata": {
        "_cell_guid": "79c7e3d0-c299-4dcb-8224-4455121ee9b0",
        "_uuid": "d629ff2d2480ee46fbb7e2d37f6b5fab8052498a",
        "id": "WrPISNMk2uJ2",
        "outputId": "818403ff-4b62-4be7-fba2-0bed87f9515a"
      },
      "source": [
        "df['sensor_15'].nunique() # no unique - complete zero\n",
        "# drop the column \n",
        "df.drop(['sensor_15'], axis=1, inplace = True)\n",
        "df.shape"
      ],
      "execution_count": null,
      "outputs": [
        {
          "output_type": "execute_result",
          "data": {
            "text/plain": [
              "(220320, 52)"
            ]
          },
          "metadata": {
            "tags": []
          },
          "execution_count": 7
        }
      ]
    },
    {
      "cell_type": "code",
      "metadata": {
        "id": "MIq8Ze-t2uJ3",
        "outputId": "24d101bd-9bd9-47ab-d0ed-473681f4224e"
      },
      "source": [
        "df.info()"
      ],
      "execution_count": null,
      "outputs": [
        {
          "output_type": "stream",
          "text": [
            "<class 'pandas.core.frame.DataFrame'>\n",
            "DatetimeIndex: 220320 entries, 2018-04-01 00:00:00 to 2018-08-31 23:59:00\n",
            "Data columns (total 52 columns):\n",
            "sensor_00         210112 non-null float64\n",
            "sensor_01         219951 non-null float64\n",
            "sensor_02         220301 non-null float64\n",
            "sensor_03         220301 non-null float64\n",
            "sensor_04         220301 non-null float64\n",
            "sensor_05         220301 non-null float64\n",
            "sensor_06         215522 non-null float64\n",
            "sensor_07         214869 non-null float64\n",
            "sensor_08         215213 non-null float64\n",
            "sensor_09         215725 non-null float64\n",
            "sensor_10         220301 non-null float64\n",
            "sensor_11         220301 non-null float64\n",
            "sensor_12         220301 non-null float64\n",
            "sensor_13         220301 non-null float64\n",
            "sensor_14         220299 non-null float64\n",
            "sensor_16         220289 non-null float64\n",
            "sensor_17         220274 non-null float64\n",
            "sensor_18         220274 non-null float64\n",
            "sensor_19         220304 non-null float64\n",
            "sensor_20         220304 non-null float64\n",
            "sensor_21         220304 non-null float64\n",
            "sensor_22         220279 non-null float64\n",
            "sensor_23         220304 non-null float64\n",
            "sensor_24         220304 non-null float64\n",
            "sensor_25         220284 non-null float64\n",
            "sensor_26         220300 non-null float64\n",
            "sensor_27         220304 non-null float64\n",
            "sensor_28         220304 non-null float64\n",
            "sensor_29         220248 non-null float64\n",
            "sensor_30         220059 non-null float64\n",
            "sensor_31         220304 non-null float64\n",
            "sensor_32         220252 non-null float64\n",
            "sensor_33         220304 non-null float64\n",
            "sensor_34         220304 non-null float64\n",
            "sensor_35         220304 non-null float64\n",
            "sensor_36         220304 non-null float64\n",
            "sensor_37         220304 non-null float64\n",
            "sensor_38         220293 non-null float64\n",
            "sensor_39         220293 non-null float64\n",
            "sensor_40         220293 non-null float64\n",
            "sensor_41         220293 non-null float64\n",
            "sensor_42         220293 non-null float64\n",
            "sensor_43         220293 non-null float64\n",
            "sensor_44         220293 non-null float64\n",
            "sensor_45         220293 non-null float64\n",
            "sensor_46         220293 non-null float64\n",
            "sensor_47         220293 non-null float64\n",
            "sensor_48         220293 non-null float64\n",
            "sensor_49         220293 non-null float64\n",
            "sensor_50         143303 non-null float64\n",
            "sensor_51         204937 non-null float64\n",
            "machine_status    220320 non-null object\n",
            "dtypes: float64(51), object(1)\n",
            "memory usage: 89.1+ MB\n"
          ],
          "name": "stdout"
        }
      ]
    },
    {
      "cell_type": "code",
      "metadata": {
        "id": "mVdMMzv62uJ4",
        "outputId": "5061f8fc-46a6-41c3-983f-7fe8b740b894"
      },
      "source": [
        "# machine status - no null \n",
        "# we will drop na in whole dataframe \n",
        "df['sensor_00'].isna().sum()"
      ],
      "execution_count": null,
      "outputs": [
        {
          "output_type": "execute_result",
          "data": {
            "text/plain": [
              "10208"
            ]
          },
          "metadata": {
            "tags": []
          },
          "execution_count": 9
        }
      ]
    },
    {
      "cell_type": "code",
      "metadata": {
        "id": "8VByLRbt2uJ5",
        "outputId": "c78cf20a-37f3-4e70-eb36-272b2cd56afa"
      },
      "source": [
        "# machine status\n",
        "df['machine_status'].unique()#'NORMAL', 'BROKEN', 'RECOVERING' \n",
        "df['machine_status'].value_counts()"
      ],
      "execution_count": null,
      "outputs": [
        {
          "output_type": "execute_result",
          "data": {
            "text/plain": [
              "NORMAL        205836\n",
              "RECOVERING     14477\n",
              "BROKEN             7\n",
              "Name: machine_status, dtype: int64"
            ]
          },
          "metadata": {
            "tags": []
          },
          "execution_count": 10
        }
      ]
    },
    {
      "cell_type": "code",
      "metadata": {
        "id": "iWQy_xjY2uJ7",
        "outputId": "e899e530-a0f9-48c9-a942-34db61ef3770"
      },
      "source": [
        "# draw a countplot for machine status \n",
        "import seaborn as sns\n",
        "sns.countplot(y = df['machine_status'])"
      ],
      "execution_count": null,
      "outputs": [
        {
          "output_type": "execute_result",
          "data": {
            "text/plain": [
              "<matplotlib.axes._subplots.AxesSubplot at 0x7f7facb87710>"
            ]
          },
          "metadata": {
            "tags": []
          },
          "execution_count": 11
        },
        {
          "output_type": "display_data",
          "data": {
            "image/png": "[encoded data removed]",
            "text/plain": [
              "<Figure size 432x288 with 1 Axes>"
            ]
          },
          "metadata": {
            "tags": [],
            "needs_background": "light"
          }
        }
      ]
    },
    {
      "cell_type": "markdown",
      "metadata": {
        "id": "EOqf4gBe2uJ8"
      },
      "source": [
        "** We are going to figureout what makes device to breakdown, \n",
        "* it is highly imbalanced data  and undersampling can't help here \n",
        "* we will experiement with SMOTE or oversampling "
      ]
    },
    {
      "cell_type": "code",
      "metadata": {
        "id": "aKk4Zdn22uJ9",
        "outputId": "bbf71a35-f24d-4ac3-b7d6-0d7d53245401"
      },
      "source": [
        "# apply label encoder to encode the machine status\n",
        "from sklearn.preprocessing import LabelEncoder\n",
        "le = LabelEncoder()\n",
        "df['machine_status'] = le.fit_transform(df['machine_status'])\n",
        "df['machine_status'].value_counts()\n",
        "\n",
        "# 1 - normal \n",
        "# 2 - recovering \n",
        "# 0 - broken"
      ],
      "execution_count": null,
      "outputs": [
        {
          "output_type": "execute_result",
          "data": {
            "text/plain": [
              "1    205836\n",
              "2     14477\n",
              "0         7\n",
              "Name: machine_status, dtype: int64"
            ]
          },
          "metadata": {
            "tags": []
          },
          "execution_count": 12
        }
      ]
    },
    {
      "cell_type": "code",
      "metadata": {
        "id": "KH0QW_T02uJ-",
        "outputId": "b3e61c66-3104-4c86-d057-67ff28c6aaa0"
      },
      "source": [
        "#  look on complete data frame when device is broken\n",
        "df_broken = df[df.machine_status ==0]\n",
        "df_broken\n",
        "\n",
        "# there is no nan value corellation for broken device \n",
        "#"
      ],
      "execution_count": null,
      "outputs": [
        {
          "output_type": "execute_result",
          "data": {
            "text/html": [
              "<div>\n",
              "<style scoped>\n",
              "    .dataframe tbody tr th:only-of-type {\n",
              "        vertical-align: middle;\n",
              "    }\n",
              "\n",
              "    .dataframe tbody tr th {\n",
              "        vertical-align: top;\n",
              "    }\n",
              "\n",
              "    .dataframe thead th {\n",
              "        text-align: right;\n",
              "    }\n",
              "</style>\n",
              "<table border=\"1\" class=\"dataframe\">\n",
              "  <thead>\n",
              "    <tr style=\"text-align: right;\">\n",
              "      <th></th>\n",
              "      <th>sensor_00</th>\n",
              "      <th>sensor_01</th>\n",
              "      <th>sensor_02</th>\n",
              "      <th>sensor_03</th>\n",
              "      <th>sensor_04</th>\n",
              "      <th>sensor_05</th>\n",
              "      <th>sensor_06</th>\n",
              "      <th>sensor_07</th>\n",
              "      <th>sensor_08</th>\n",
              "      <th>sensor_09</th>\n",
              "      <th>...</th>\n",
              "      <th>sensor_43</th>\n",
              "      <th>sensor_44</th>\n",
              "      <th>sensor_45</th>\n",
              "      <th>sensor_46</th>\n",
              "      <th>sensor_47</th>\n",
              "      <th>sensor_48</th>\n",
              "      <th>sensor_49</th>\n",
              "      <th>sensor_50</th>\n",
              "      <th>sensor_51</th>\n",
              "      <th>machine_status</th>\n",
              "    </tr>\n",
              "    <tr>\n",
              "      <th>index</th>\n",
              "      <th></th>\n",
              "      <th></th>\n",
              "      <th></th>\n",
              "      <th></th>\n",
              "      <th></th>\n",
              "      <th></th>\n",
              "      <th></th>\n",
              "      <th></th>\n",
              "      <th></th>\n",
              "      <th></th>\n",
              "      <th></th>\n",
              "      <th></th>\n",
              "      <th></th>\n",
              "      <th></th>\n",
              "      <th></th>\n",
              "      <th></th>\n",
              "      <th></th>\n",
              "      <th></th>\n",
              "      <th></th>\n",
              "      <th></th>\n",
              "      <th></th>\n",
              "    </tr>\n",
              "  </thead>\n",
              "  <tbody>\n",
              "    <tr>\n",
              "      <th>2018-04-12 21:55:00</th>\n",
              "      <td>0.000000</td>\n",
              "      <td>53.342010</td>\n",
              "      <td>52.821180</td>\n",
              "      <td>43.402775</td>\n",
              "      <td>202.526031</td>\n",
              "      <td>49.79289</td>\n",
              "      <td>3.219039</td>\n",
              "      <td>16.890910</td>\n",
              "      <td>16.869210</td>\n",
              "      <td>15.082470</td>\n",
              "      <td>...</td>\n",
              "      <td>50.78125</td>\n",
              "      <td>50.92593</td>\n",
              "      <td>51.215280</td>\n",
              "      <td>50.636570</td>\n",
              "      <td>46.006940</td>\n",
              "      <td>409.143500</td>\n",
              "      <td>121.527800</td>\n",
              "      <td>401.909700</td>\n",
              "      <td>324.6528</td>\n",
              "      <td>0</td>\n",
              "    </tr>\n",
              "    <tr>\n",
              "      <th>2018-04-18 00:30:00</th>\n",
              "      <td>1.093982</td>\n",
              "      <td>42.534720</td>\n",
              "      <td>47.699650</td>\n",
              "      <td>41.449650</td>\n",
              "      <td>206.038757</td>\n",
              "      <td>60.30106</td>\n",
              "      <td>12.304690</td>\n",
              "      <td>15.154800</td>\n",
              "      <td>14.185470</td>\n",
              "      <td>13.867190</td>\n",
              "      <td>...</td>\n",
              "      <td>42.70833</td>\n",
              "      <td>34.72222</td>\n",
              "      <td>31.539350</td>\n",
              "      <td>34.432870</td>\n",
              "      <td>33.275460</td>\n",
              "      <td>59.895830</td>\n",
              "      <td>44.560180</td>\n",
              "      <td>177.662000</td>\n",
              "      <td>183.7384</td>\n",
              "      <td>0</td>\n",
              "    </tr>\n",
              "    <tr>\n",
              "      <th>2018-05-19 03:18:00</th>\n",
              "      <td>2.258796</td>\n",
              "      <td>47.265630</td>\n",
              "      <td>52.734370</td>\n",
              "      <td>43.446178</td>\n",
              "      <td>200.115738</td>\n",
              "      <td>66.14643</td>\n",
              "      <td>13.592300</td>\n",
              "      <td>15.914350</td>\n",
              "      <td>15.147570</td>\n",
              "      <td>14.793110</td>\n",
              "      <td>...</td>\n",
              "      <td>39.06250</td>\n",
              "      <td>35.01157</td>\n",
              "      <td>37.905090</td>\n",
              "      <td>39.062500</td>\n",
              "      <td>45.428240</td>\n",
              "      <td>144.675900</td>\n",
              "      <td>49.768520</td>\n",
              "      <td>246.238400</td>\n",
              "      <td>257.5231</td>\n",
              "      <td>0</td>\n",
              "    </tr>\n",
              "    <tr>\n",
              "      <th>2018-05-25 00:30:00</th>\n",
              "      <td>2.321759</td>\n",
              "      <td>47.482640</td>\n",
              "      <td>51.475693</td>\n",
              "      <td>42.795135</td>\n",
              "      <td>612.152800</td>\n",
              "      <td>67.30158</td>\n",
              "      <td>14.062500</td>\n",
              "      <td>16.608800</td>\n",
              "      <td>15.943290</td>\n",
              "      <td>15.596060</td>\n",
              "      <td>...</td>\n",
              "      <td>202.34370</td>\n",
              "      <td>65.68287</td>\n",
              "      <td>57.870370</td>\n",
              "      <td>127.893500</td>\n",
              "      <td>153.935200</td>\n",
              "      <td>155.381900</td>\n",
              "      <td>65.682870</td>\n",
              "      <td>220.196800</td>\n",
              "      <td>267.3611</td>\n",
              "      <td>0</td>\n",
              "    </tr>\n",
              "    <tr>\n",
              "      <th>2018-06-28 22:00:00</th>\n",
              "      <td>0.364005</td>\n",
              "      <td>40.190970</td>\n",
              "      <td>45.225690</td>\n",
              "      <td>40.190971</td>\n",
              "      <td>201.368622</td>\n",
              "      <td>0.00000</td>\n",
              "      <td>11.335360</td>\n",
              "      <td>15.270540</td>\n",
              "      <td>15.183740</td>\n",
              "      <td>15.118630</td>\n",
              "      <td>...</td>\n",
              "      <td>32.29166</td>\n",
              "      <td>28.06713</td>\n",
              "      <td>28.067129</td>\n",
              "      <td>29.513889</td>\n",
              "      <td>29.224537</td>\n",
              "      <td>29.224537</td>\n",
              "      <td>29.513889</td>\n",
              "      <td>32.407406</td>\n",
              "      <td>NaN</td>\n",
              "      <td>0</td>\n",
              "    </tr>\n",
              "    <tr>\n",
              "      <th>2018-07-08 00:11:00</th>\n",
              "      <td>0.001968</td>\n",
              "      <td>45.138890</td>\n",
              "      <td>52.907990</td>\n",
              "      <td>45.355900</td>\n",
              "      <td>500.000000</td>\n",
              "      <td>1.40131</td>\n",
              "      <td>0.028935</td>\n",
              "      <td>0.036169</td>\n",
              "      <td>0.036169</td>\n",
              "      <td>0.007234</td>\n",
              "      <td>...</td>\n",
              "      <td>36.19791</td>\n",
              "      <td>37.32639</td>\n",
              "      <td>35.300930</td>\n",
              "      <td>38.194440</td>\n",
              "      <td>43.402780</td>\n",
              "      <td>99.537030</td>\n",
              "      <td>44.849540</td>\n",
              "      <td>192.129600</td>\n",
              "      <td>174.7685</td>\n",
              "      <td>0</td>\n",
              "    </tr>\n",
              "    <tr>\n",
              "      <th>2018-07-25 14:00:00</th>\n",
              "      <td>2.318808</td>\n",
              "      <td>45.833332</td>\n",
              "      <td>52.994790</td>\n",
              "      <td>43.880210</td>\n",
              "      <td>420.503448</td>\n",
              "      <td>72.52040</td>\n",
              "      <td>14.185470</td>\n",
              "      <td>16.247110</td>\n",
              "      <td>15.697340</td>\n",
              "      <td>15.053530</td>\n",
              "      <td>...</td>\n",
              "      <td>51.30208</td>\n",
              "      <td>52.10200</td>\n",
              "      <td>52.662040</td>\n",
              "      <td>67.129630</td>\n",
              "      <td>43.981480</td>\n",
              "      <td>230.324100</td>\n",
              "      <td>69.733800</td>\n",
              "      <td>NaN</td>\n",
              "      <td>205.7292</td>\n",
              "      <td>0</td>\n",
              "    </tr>\n",
              "  </tbody>\n",
              "</table>\n",
              "<p>7 rows × 52 columns</p>\n",
              "</div>"
            ],
            "text/plain": [
              "                     sensor_00  sensor_01  sensor_02  sensor_03   sensor_04  \\\n",
              "index                                                                         \n",
              "2018-04-12 21:55:00   0.000000  53.342010  52.821180  43.402775  202.526031   \n",
              "2018-04-18 00:30:00   1.093982  42.534720  47.699650  41.449650  206.038757   \n",
              "2018-05-19 03:18:00   2.258796  47.265630  52.734370  43.446178  200.115738   \n",
              "2018-05-25 00:30:00   2.321759  47.482640  51.475693  42.795135  612.152800   \n",
              "2018-06-28 22:00:00   0.364005  40.190970  45.225690  40.190971  201.368622   \n",
              "2018-07-08 00:11:00   0.001968  45.138890  52.907990  45.355900  500.000000   \n",
              "2018-07-25 14:00:00   2.318808  45.833332  52.994790  43.880210  420.503448   \n",
              "\n",
              "                     sensor_05  sensor_06  sensor_07  sensor_08  sensor_09  \\\n",
              "index                                                                        \n",
              "2018-04-12 21:55:00   49.79289   3.219039  16.890910  16.869210  15.082470   \n",
              "2018-04-18 00:30:00   60.30106  12.304690  15.154800  14.185470  13.867190   \n",
              "2018-05-19 03:18:00   66.14643  13.592300  15.914350  15.147570  14.793110   \n",
              "2018-05-25 00:30:00   67.30158  14.062500  16.608800  15.943290  15.596060   \n",
              "2018-06-28 22:00:00    0.00000  11.335360  15.270540  15.183740  15.118630   \n",
              "2018-07-08 00:11:00    1.40131   0.028935   0.036169   0.036169   0.007234   \n",
              "2018-07-25 14:00:00   72.52040  14.185470  16.247110  15.697340  15.053530   \n",
              "\n",
              "                          ...        sensor_43  sensor_44  sensor_45  \\\n",
              "index                     ...                                          \n",
              "2018-04-12 21:55:00       ...         50.78125   50.92593  51.215280   \n",
              "2018-04-18 00:30:00       ...         42.70833   34.72222  31.539350   \n",
              "2018-05-19 03:18:00       ...         39.06250   35.01157  37.905090   \n",
              "2018-05-25 00:30:00       ...        202.34370   65.68287  57.870370   \n",
              "2018-06-28 22:00:00       ...         32.29166   28.06713  28.067129   \n",
              "2018-07-08 00:11:00       ...         36.19791   37.32639  35.300930   \n",
              "2018-07-25 14:00:00       ...         51.30208   52.10200  52.662040   \n",
              "\n",
              "                      sensor_46   sensor_47   sensor_48   sensor_49  \\\n",
              "index                                                                 \n",
              "2018-04-12 21:55:00   50.636570   46.006940  409.143500  121.527800   \n",
              "2018-04-18 00:30:00   34.432870   33.275460   59.895830   44.560180   \n",
              "2018-05-19 03:18:00   39.062500   45.428240  144.675900   49.768520   \n",
              "2018-05-25 00:30:00  127.893500  153.935200  155.381900   65.682870   \n",
              "2018-06-28 22:00:00   29.513889   29.224537   29.224537   29.513889   \n",
              "2018-07-08 00:11:00   38.194440   43.402780   99.537030   44.849540   \n",
              "2018-07-25 14:00:00   67.129630   43.981480  230.324100   69.733800   \n",
              "\n",
              "                      sensor_50  sensor_51  machine_status  \n",
              "index                                                       \n",
              "2018-04-12 21:55:00  401.909700   324.6528               0  \n",
              "2018-04-18 00:30:00  177.662000   183.7384               0  \n",
              "2018-05-19 03:18:00  246.238400   257.5231               0  \n",
              "2018-05-25 00:30:00  220.196800   267.3611               0  \n",
              "2018-06-28 22:00:00   32.407406        NaN               0  \n",
              "2018-07-08 00:11:00  192.129600   174.7685               0  \n",
              "2018-07-25 14:00:00         NaN   205.7292               0  \n",
              "\n",
              "[7 rows x 52 columns]"
            ]
          },
          "metadata": {
            "tags": []
          },
          "execution_count": 13
        }
      ]
    },
    {
      "cell_type": "code",
      "metadata": {
        "id": "ArP0BRm72uJ_",
        "outputId": "11fc241a-cdeb-4699-a2dc-d383972e5dc9"
      },
      "source": [
        "import matplotlib.pyplot as plt \n",
        "plt.plot(df['sensor_02'])"
      ],
      "execution_count": null,
      "outputs": [
        {
          "output_type": "execute_result",
          "data": {
            "text/plain": [
              "[<matplotlib.lines.Line2D at 0x7f7faf772438>]"
            ]
          },
          "metadata": {
            "tags": []
          },
          "execution_count": 14
        },
        {
          "output_type": "display_data",
          "data": {
            "image/png": "[encoded data removed]",
            "text/plain": [
              "<Figure size 432x288 with 1 Axes>"
            ]
          },
          "metadata": {
            "tags": [],
            "needs_background": "light"
          }
        }
      ]
    },
    {
      "cell_type": "code",
      "metadata": {
        "id": "m_Sm_T1v2uKA",
        "outputId": "4957abaa-49fd-477f-f4a0-2b0c061d472d"
      },
      "source": [
        "# imputation for null values \n",
        "df['sensor_04'].hist()\n",
        "# data is skewwed so we need to use median value to fill the data"
      ],
      "execution_count": null,
      "outputs": [
        {
          "output_type": "execute_result",
          "data": {
            "text/plain": [
              "<matplotlib.axes._subplots.AxesSubplot at 0x7f7fa03327b8>"
            ]
          },
          "metadata": {
            "tags": []
          },
          "execution_count": 15
        },
        {
          "output_type": "display_data",
          "data": {
            "image/png": "[encoded data removed]",
            "text/plain": [
              "<Figure size 432x288 with 1 Axes>"
            ]
          },
          "metadata": {
            "tags": [],
            "needs_background": "light"
          }
        }
      ]
    },
    {
      "cell_type": "code",
      "metadata": {
        "id": "Z5b2VXEr2uKC",
        "outputId": "4abb41a6-e5df-4e21-ce2e-531b8fdddb6c"
      },
      "source": [
        "# let us figureout NaN values \n",
        "df['sensor_00'].isna().sum()"
      ],
      "execution_count": null,
      "outputs": [
        {
          "output_type": "execute_result",
          "data": {
            "text/plain": [
              "10208"
            ]
          },
          "metadata": {
            "tags": []
          },
          "execution_count": 16
        }
      ]
    },
    {
      "cell_type": "code",
      "metadata": {
        "id": "8hs5i9N-2uKD",
        "outputId": "9513ce7e-4c49-4362-9437-8c8a7cad0ba9"
      },
      "source": [
        "df['sensor_50'].isna().sum()"
      ],
      "execution_count": null,
      "outputs": [
        {
          "output_type": "execute_result",
          "data": {
            "text/plain": [
              "77017"
            ]
          },
          "metadata": {
            "tags": []
          },
          "execution_count": 17
        }
      ]
    },
    {
      "cell_type": "code",
      "metadata": {
        "id": "U-G1y6Yy2uKE"
      },
      "source": [
        "# used ffill method to fill the missing values\n",
        "df = df.fillna(method='ffill')"
      ],
      "execution_count": null,
      "outputs": []
    },
    {
      "cell_type": "code",
      "metadata": {
        "id": "giYd_ou62uKF",
        "outputId": "29268918-aa92-43db-c99e-e9ecc2bac0b6"
      },
      "source": [
        "X = df.drop(['machine_status'], axis=1)\n",
        "X.shape"
      ],
      "execution_count": null,
      "outputs": [
        {
          "output_type": "execute_result",
          "data": {
            "text/plain": [
              "(220320, 51)"
            ]
          },
          "metadata": {
            "tags": []
          },
          "execution_count": 19
        }
      ]
    },
    {
      "cell_type": "code",
      "metadata": {
        "id": "xIi3e1bK2uKG"
      },
      "source": [
        ""
      ],
      "execution_count": null,
      "outputs": []
    },
    {
      "cell_type": "code",
      "metadata": {
        "id": "t0-MOvQn2uKG",
        "outputId": "eee0b867-f540-4ea6-cb81-9702586f31d8"
      },
      "source": [
        "Y = df['machine_status']\n",
        "Y.shape"
      ],
      "execution_count": null,
      "outputs": [
        {
          "output_type": "execute_result",
          "data": {
            "text/plain": [
              "(220320,)"
            ]
          },
          "metadata": {
            "tags": []
          },
          "execution_count": 20
        }
      ]
    },
    {
      "cell_type": "code",
      "metadata": {
        "id": "C7zEAzZb2uKH"
      },
      "source": [
        "# apply the logitic regression \n",
        "from sklearn.model_selection import train_test_split\n",
        "from sklearn.linear_model import LogisticRegression\n",
        "X_train, X_test, y_train, y_test = train_test_split(X,Y, test_size = 0.30, random_state = 42)"
      ],
      "execution_count": null,
      "outputs": []
    },
    {
      "cell_type": "code",
      "metadata": {
        "id": "f2uiwvII2uKI",
        "outputId": "93e4e7cd-2305-4b88-a156-f0240d5926fb"
      },
      "source": [
        "# apply \n",
        "logit = LogisticRegression()\n",
        "model = logit.fit(X_train, y_train)"
      ],
      "execution_count": null,
      "outputs": [
        {
          "output_type": "stream",
          "text": [
            "/opt/conda/lib/python3.6/site-packages/sklearn/linear_model/logistic.py:432: FutureWarning: Default solver will be changed to 'lbfgs' in 0.22. Specify a solver to silence this warning.\n",
            "  FutureWarning)\n",
            "/opt/conda/lib/python3.6/site-packages/sklearn/linear_model/logistic.py:469: FutureWarning: Default multi_class will be changed to 'auto' in 0.22. Specify the multi_class option to silence this warning.\n",
            "  \"this warning.\", FutureWarning)\n"
          ],
          "name": "stderr"
        }
      ]
    },
    {
      "cell_type": "code",
      "metadata": {
        "id": "cDaf2qyI4j3e"
      },
      "source": [
        "from sklearn.model_selection import train_test_split\n",
        "from sklearn.linear_model import LogisticRegression\n",
        "X_train, X_test, y_train, y_test = train_test_split(X,Y, test_size = 0.30, random_state = 42)\n",
        "\n",
        "logit = LogisticRegression()\n",
        "model = logit.fit(X_train, y_train)\n",
        "\n",
        "\n",
        "# predict\n",
        "y_pred = model.predict(X_test)\n",
        "\n",
        "# evaluate the model\n",
        "from sklearn.metrics import confusion_matrix, classification_report, accuracy_score\n",
        "cm = pd.crosstab(y_test,y_pred, rownames=['True'], colnames=['Predicted'], margins=True)\n",
        "cm"
      ],
      "execution_count": null,
      "outputs": []
    },
    {
      "cell_type": "code",
      "metadata": {
        "id": "Djz7vJfR2uKJ"
      },
      "source": [
        "# predict\n",
        "y_pred = model.predict(X_test)"
      ],
      "execution_count": null,
      "outputs": []
    },
    {
      "cell_type": "code",
      "metadata": {
        "id": "Hr9I4gX_2uKK",
        "outputId": "20e71a50-2325-43a4-e5ec-e308dff7152a"
      },
      "source": [
        "# evaluate the model\n",
        "from sklearn.metrics import confusion_matrix, classification_report, accuracy_score\n",
        "cm = pd.crosstab(y_test,y_pred, rownames=['True'], colnames=['Predicted'], margins=True)\n",
        "cm"
      ],
      "execution_count": null,
      "outputs": [
        {
          "output_type": "execute_result",
          "data": {
            "text/html": [
              "<div>\n",
              "<style scoped>\n",
              "    .dataframe tbody tr th:only-of-type {\n",
              "        vertical-align: middle;\n",
              "    }\n",
              "\n",
              "    .dataframe tbody tr th {\n",
              "        vertical-align: top;\n",
              "    }\n",
              "\n",
              "    .dataframe thead th {\n",
              "        text-align: right;\n",
              "    }\n",
              "</style>\n",
              "<table border=\"1\" class=\"dataframe\">\n",
              "  <thead>\n",
              "    <tr style=\"text-align: right;\">\n",
              "      <th>Predicted</th>\n",
              "      <th>1</th>\n",
              "      <th>2</th>\n",
              "      <th>All</th>\n",
              "    </tr>\n",
              "    <tr>\n",
              "      <th>True</th>\n",
              "      <th></th>\n",
              "      <th></th>\n",
              "      <th></th>\n",
              "    </tr>\n",
              "  </thead>\n",
              "  <tbody>\n",
              "    <tr>\n",
              "      <th>0</th>\n",
              "      <td>1</td>\n",
              "      <td>1</td>\n",
              "      <td>2</td>\n",
              "    </tr>\n",
              "    <tr>\n",
              "      <th>1</th>\n",
              "      <td>61698</td>\n",
              "      <td>106</td>\n",
              "      <td>61804</td>\n",
              "    </tr>\n",
              "    <tr>\n",
              "      <th>2</th>\n",
              "      <td>51</td>\n",
              "      <td>4239</td>\n",
              "      <td>4290</td>\n",
              "    </tr>\n",
              "    <tr>\n",
              "      <th>All</th>\n",
              "      <td>61750</td>\n",
              "      <td>4346</td>\n",
              "      <td>66096</td>\n",
              "    </tr>\n",
              "  </tbody>\n",
              "</table>\n",
              "</div>"
            ],
            "text/plain": [
              "Predicted      1     2    All\n",
              "True                         \n",
              "0              1     1      2\n",
              "1          61698   106  61804\n",
              "2             51  4239   4290\n",
              "All        61750  4346  66096"
            ]
          },
          "metadata": {
            "tags": []
          },
          "execution_count": 24
        }
      ]
    },
    {
      "cell_type": "code",
      "metadata": {
        "id": "IA2FhOnO2uKL",
        "outputId": "140d84d1-e72a-4edd-ee34-ba331f90bca4"
      },
      "source": [
        "# accuracy is not a good metrics for Anomaly detection and imblaanced dataset\n",
        "accuracy = accuracy_score(y_test, y_pred)\n",
        "accuracy"
      ],
      "execution_count": null,
      "outputs": [
        {
          "output_type": "execute_result",
          "data": {
            "text/plain": [
              "0.9975944081336238"
            ]
          },
          "metadata": {
            "tags": []
          },
          "execution_count": 25
        }
      ]
    },
    {
      "cell_type": "code",
      "metadata": {
        "id": "RBkS-fSg2uKL",
        "outputId": "e1be925f-151b-46cc-f2ff-355eba477452"
      },
      "source": [
        "# Classification Report\n",
        "cr = classification_report(y_pred, y_test)\n",
        "print(cr)"
      ],
      "execution_count": null,
      "outputs": [
        {
          "output_type": "stream",
          "text": [
            "              precision    recall  f1-score   support\n",
            "\n",
            "           0       0.00      0.00      0.00         0\n",
            "           1       1.00      1.00      1.00     61750\n",
            "           2       0.99      0.98      0.98      4346\n",
            "\n",
            "    accuracy                           1.00     66096\n",
            "   macro avg       0.66      0.66      0.66     66096\n",
            "weighted avg       1.00      1.00      1.00     66096\n",
            "\n"
          ],
          "name": "stdout"
        },
        {
          "output_type": "stream",
          "text": [
            "/opt/conda/lib/python3.6/site-packages/sklearn/metrics/classification.py:1439: UndefinedMetricWarning: Recall and F-score are ill-defined and being set to 0.0 in labels with no true samples.\n",
            "  'recall', 'true', average, warn_for)\n"
          ],
          "name": "stderr"
        }
      ]
    },
    {
      "cell_type": "markdown",
      "metadata": {
        "id": "tQJ3IAi02uKM"
      },
      "source": [
        "# these reports are not good \n",
        "we will use Isolation forest and oneSVM for modelling \n",
        "xgboosting feature_importance and PCA for dimension reduction \n",
        "before that we will divide this dataset into 2 probelms\n",
        " machine status - normal + broken, normal + recovery, recovery+ broken "
      ]
    },
    {
      "cell_type": "code",
      "metadata": {
        "id": "lHRrtGpo2uKO",
        "outputId": "bca7d86e-8ef0-4a55-8f99-615ec35d93d6"
      },
      "source": [
        "df.shape # look on the shape of the dataset"
      ],
      "execution_count": null,
      "outputs": [
        {
          "output_type": "execute_result",
          "data": {
            "text/plain": [
              "(220320, 52)"
            ]
          },
          "metadata": {
            "tags": []
          },
          "execution_count": 27
        }
      ]
    },
    {
      "cell_type": "markdown",
      "metadata": {
        "id": "yAujtumc2uKP"
      },
      "source": [
        " machine status - normal + broken"
      ]
    },
    {
      "cell_type": "code",
      "metadata": {
        "id": "rmPLCtIy2uKP",
        "outputId": "70d5c14b-bd87-4e2b-d074-5b9db9396337"
      },
      "source": [
        "df1 = df.copy()\n",
        "df1 = df[(df1.machine_status ==1) | (df1.machine_status ==0)]\n",
        "df1.shape"
      ],
      "execution_count": null,
      "outputs": [
        {
          "output_type": "execute_result",
          "data": {
            "text/plain": [
              "(205843, 52)"
            ]
          },
          "metadata": {
            "tags": []
          },
          "execution_count": 28
        }
      ]
    },
    {
      "cell_type": "markdown",
      "metadata": {
        "id": "V2hKqXJo2uKQ"
      },
      "source": [
        ""
      ]
    }
  ]
}